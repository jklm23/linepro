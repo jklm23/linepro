{
 "cells": [
  {
   "cell_type": "markdown",
   "source": [
    "## 对作业题的第9(a)题，使用scipy的linprog进行单纯形法的线性规划"
   ],
   "metadata": {
    "collapsed": false
   }
  },
  {
   "cell_type": "code",
   "execution_count": 1,
   "metadata": {
    "collapsed": true,
    "pycharm": {
     "name": "#%%\n"
    }
   },
   "outputs": [
    {
     "name": "stdout",
     "output_type": "stream",
     "text": [
      "     con: array([], dtype=float64)\n",
      "     fun: -294.0\n",
      " message: 'Optimization terminated successfully.'\n",
      "     nit: 3\n",
      "   slack: array([0., 0.])\n",
      "  status: 0\n",
      " success: True\n",
      "       x: array([36.,  0.,  6.])\n"
     ]
    }
   ],
   "source": [
    "from scipy import optimize as op\n",
    "import numpy as np\n",
    "\n",
    "c=np.array([6,14,13])    # 目标函数\n",
    "A_ub=np.array([[1,4,2],[1,2,4]])  # 不等式约束\n",
    "B_ub=np.array([48,60])\n",
    "A_eq=np.array([[-1,1,1]])   # 等式约束\n",
    "B_eq=np.array([4])\n",
    "# x1,x2,x3的约束条件默认都非负\n",
    "res=op.linprog(-c,A_ub,B_ub,method='simplex')    # 目标函数为Min\n",
    "print(res)"
   ]
  },
  {
   "cell_type": "markdown",
   "source": [
    "`op.linprog`是求目标函数的最小值的，而原问题要求最大值，因此第一个参数里面加一个负号，得到最优解为$ x=(36,0,6)^T $时最小值为$ -294 $，因此原问题的最大值为$294$"
   ],
   "metadata": {
    "collapsed": false
   }
  },
  {
   "cell_type": "markdown",
   "source": [
    "----\n",
    "## 求解第4题的(a)"
   ],
   "metadata": {
    "collapsed": false,
    "pycharm": {
     "name": "#%% md\n"
    }
   }
  },
  {
   "cell_type": "code",
   "execution_count": 3,
   "outputs": [
    {
     "name": "stdout",
     "output_type": "stream",
     "text": [
      "     con: array([0.])\n",
      "     fun: -12.0\n",
      " message: 'Optimization terminated successfully.'\n",
      "     nit: 2\n",
      "   slack: array([0.])\n",
      "  status: 0\n",
      " success: True\n",
      "       x: array([-5.,  0., -1.])\n"
     ]
    }
   ],
   "source": [
    "from scipy import optimize as op\n",
    "import numpy as np\n",
    "\n",
    "c=np.array([2,-1,2])    # 目标函数\n",
    "A_ub=np.array([[-1,1,-1]])  # 不等式约束\n",
    "B_ub=np.array([6])\n",
    "A_eq=np.array([[-1,1,1]])   # 等式约束\n",
    "B_eq=np.array([4])\n",
    "# x1,x2,x3的约束条件\n",
    "x1=(None,0) # x1<=0\n",
    "x2=(0,None) # x2>=0\n",
    "x3=(None,None)  # x3无约束\n",
    "res=op.linprog(c,A_ub,B_ub,A_eq,B_eq,bounds=(x1,x2,x3),method='simplex')    # 目标函数为Min，约束条件bounds\n",
    "print(res)"
   ],
   "metadata": {
    "collapsed": false,
    "pycharm": {
     "name": "#%%\n"
    }
   }
  },
  {
   "cell_type": "markdown",
   "source": [
    "根据返回值，得到最优解为$x=(-5,0,-1)^T$， 此时最小值为$-12$\n",
    "\n",
    "------\n",
    "\n",
    "## 第4题(b)"
   ],
   "metadata": {
    "collapsed": false
   }
  },
  {
   "cell_type": "code",
   "execution_count": 1,
   "outputs": [
    {
     "name": "stdout",
     "output_type": "stream",
     "text": [
      "     con: array([-8.])\n",
      "     fun: 0.5\n",
      " message: \"Phase 1 of the simplex method failed to find a feasible solution. The pseudo-objective function evaluates to 8.0e+00 which exceeds the required tolerance of 1e-09 for a solution to be considered 'close enough' to zero to be a basic solution. Consider increasing the tolerance to be greater than 8.0e+00. If this tolerance is unacceptably  large the problem may be infeasible.\"\n",
      "     nit: 2\n",
      "   slack: array([6.5, 0. ])\n",
      "  status: 2\n",
      " success: False\n",
      "       x: array([0. , 0. , 0. , 0.5])\n"
     ]
    }
   ],
   "source": [
    "from scipy import optimize as op\n",
    "import numpy as np\n",
    "\n",
    "c=np.array([2,1,3,1])    # 目标函数\n",
    "A_ub=np.array([[1,1,1,1],[-1,0,2,-2]])  # 不等式约束\n",
    "B_ub=np.array([7,-1])\n",
    "A_eq=np.array([[2,-3,5,0]])   # 等式约束\n",
    "B_eq=np.array([-8])\n",
    "# x1,x2,x3的约束条件\n",
    "x1=(0,None) # x1>=0\n",
    "x2=(None,0) # x2<=0\n",
    "x3=(0,None)  # x4<=0\n",
    "x4=(None,None)\n",
    "res=op.linprog(c,A_ub,B_ub,A_eq,B_eq,bounds=(x1,x2,x3,x4),method='simplex')    # 目标函数为Min\n",
    "print(res)"
   ],
   "metadata": {
    "collapsed": false,
    "pycharm": {
     "name": "#%%\n"
    }
   }
  },
  {
   "cell_type": "markdown",
   "source": [
    "使用单纯性法规划失败，无最优解"
   ],
   "metadata": {
    "collapsed": false
   }
  }
 ],
 "metadata": {
  "kernelspec": {
   "display_name": "Python 3",
   "language": "python",
   "name": "python3"
  },
  "language_info": {
   "codemirror_mode": {
    "name": "ipython",
    "version": 2
   },
   "file_extension": ".py",
   "mimetype": "text/x-python",
   "name": "python",
   "nbconvert_exporter": "python",
   "pygments_lexer": "ipython2",
   "version": "2.7.6"
  }
 },
 "nbformat": 4,
 "nbformat_minor": 0
}