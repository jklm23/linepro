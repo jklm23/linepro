{
 "cells": [
  {
   "cell_type": "code",
   "execution_count": 7,
   "metadata": {
    "collapsed": true
   },
   "outputs": [
    {
     "name": "stderr",
     "output_type": "stream",
     "text": [
      "<ipython-input-7-d33d70a01b9a>:3: DeprecationWarning: `np.float` is a deprecated alias for the builtin `float`. To silence this warning, use `float` by itself. Doing this will not modify any behavior and is safe. If you specifically wanted the numpy scalar type, use `np.float64` here.\n",
      "Deprecated in NumPy 1.20; for more details and guidance: https://numpy.org/devdocs/release/1.20.0-notes.html#deprecations\n",
      "  d = np.loadtxt(\"data.txt\", dtype=np.float)\n"
     ]
    }
   ],
   "source": [
    "import numpy as np\n",
    "\n",
    "d = np.loadtxt(\"data.txt\", dtype=np.float)\n",
    "(bn,cn) = d.shape\n",
    "s = list(range(cn-bn,cn-1)) #基变量列表\n",
    "\n"
   ]
  },
  {
   "cell_type": "code",
   "execution_count": 8,
   "outputs": [],
   "source": [
    "# 单纯性法的手动实现\n",
    "# 标准形为max，<=\n",
    "# 函数文件为data.txt，其中最后一行为目标函数，其他行为约束条件\n",
    "def solve():\n",
    "    while max(d[-1][:-1]) > 0:\n",
    "        jnum = np.argmax(d[-1][:-1]) #转入下标\n",
    "        inum = np.argmin(d[:-1,-1]/d[:-1,jnum])  #转出下标\n",
    "        s[inum] = jnum #更新基变量\n",
    "        d[inum]/=d[inum][jnum]\n",
    "        for i in range(bn):\n",
    "            if i != inum:\n",
    "                d[i] -= d[i][jnum] * d[inum]\n",
    "\n",
    "def printSol():\n",
    "    for i in range(cn - 1):\n",
    "        print(\"x%d=%.2f\" % (i,d[s.index(i)][-1] if i in s else 0))\n",
    "    print(\"objective is %.2f\"%(-d[-1][-1]))\n"
   ],
   "metadata": {
    "collapsed": false,
    "pycharm": {
     "name": "#%%\n"
    }
   }
  },
  {
   "cell_type": "markdown",
   "source": [
    "### 第9题的(a)求解，化为标准型如下：\n",
    "\n",
    "$$\\max {6x_1+14x_2+13x_3+0x_4+0x_5}$$\n",
    "\n",
    "$$s.t. \\begin{cases}x_1+4x_2+2x_3+x_4=48\\\\x_1+2x_2+4x_3+x_5=60\\\\x_1,x_2,x_3,x_4,x_5\\geq0 \\end{cases}$$"
   ],
   "metadata": {
    "collapsed": false,
    "pycharm": {
     "name": "#%% md\n"
    }
   }
  },
  {
   "cell_type": "code",
   "execution_count": 9,
   "outputs": [
    {
     "name": "stdout",
     "output_type": "stream",
     "text": [
      "x0=36.00\n",
      "x1=0.00\n",
      "x2=6.00\n",
      "x3=0.00\n",
      "x4=0.00\n",
      "objective is 294.00\n"
     ]
    }
   ],
   "source": [
    "solve()\n",
    "printSol()"
   ],
   "metadata": {
    "collapsed": false,
    "pycharm": {
     "name": "#%%\n"
    }
   }
  },
  {
   "cell_type": "markdown",
   "source": [
    "与`lineproc.ipynb`的结果相同"
   ],
   "metadata": {
    "collapsed": false
   }
  }
 ],
 "metadata": {
  "kernelspec": {
   "display_name": "Python 3",
   "language": "python",
   "name": "python3"
  },
  "language_info": {
   "codemirror_mode": {
    "name": "ipython",
    "version": 2
   },
   "file_extension": ".py",
   "mimetype": "text/x-python",
   "name": "python",
   "nbconvert_exporter": "python",
   "pygments_lexer": "ipython2",
   "version": "2.7.6"
  }
 },
 "nbformat": 4,
 "nbformat_minor": 0
}